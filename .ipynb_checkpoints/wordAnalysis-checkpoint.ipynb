{
 "cells": [
  {
   "cell_type": "code",
   "execution_count": 7,
   "metadata": {},
   "outputs": [],
   "source": [
    "import pandas as pd\n",
    "import numpy as np\n",
    "import matplotlib.pyplot as plt\n",
    "import re\n",
    "%matplotlib inline"
   ]
  },
  {
   "cell_type": "code",
   "execution_count": 4,
   "metadata": {},
   "outputs": [],
   "source": [
    "# Read in CSV \n",
    "data = pd.read_csv(\"videoStats.csv\", encoding = 'latin-1')"
   ]
  },
  {
   "cell_type": "code",
   "execution_count": 24,
   "metadata": {},
   "outputs": [
    {
     "name": "stdout",
     "output_type": "stream",
     "text": [
      "['Bodybuilding & Fitness Motivation - Aesthetic To The Max']\n"
     ]
    }
   ],
   "source": [
    "print(re.findall(r\"'(.*?)'\",data.Title[1],re.DOTALL))"
   ]
  },
  {
   "cell_type": "code",
   "execution_count": 29,
   "metadata": {},
   "outputs": [
    {
     "name": "stdout",
     "output_type": "stream",
     "text": [
      "\n",
      "Most Common Words in Titles\n",
      "the 877\n",
      "and 810\n",
      "to 786\n",
      "workout 624\n",
      "for 584\n",
      "with 553\n",
      "de 543\n",
      "gym 543\n",
      "training 540\n",
      "in 419\n",
      "\n",
      "Non Stop Words\n",
      "workout 624\n",
      "de 543\n",
      "gym 543\n",
      "training 540\n",
      "fitness 381\n",
      "the 355\n",
      "bodybuilding 282\n",
      "muscle 258\n",
      "body 250\n",
      "to 244\n"
     ]
    }
   ],
   "source": [
    "import os\n",
    "import nltk\n",
    "from collections import Counter\n",
    "from nltk.corpus import stopwords\n",
    "\n",
    "c = Counter()\n",
    "nonStopWordsCt = Counter()\n",
    "stopWords = set(stopwords.words('english'))\n",
    "\n",
    "for x in data.Title:\n",
    "            wordList = x.split()\n",
    "            englishList = []\n",
    "            nonStopWords = []\n",
    "            for word in wordList:\n",
    "                if word.isalpha():\n",
    "                    englishList.append(word.lower())\n",
    "                    if word not in stopWords:\n",
    "                        nonStopWords.append(word.lower())\n",
    "            c += Counter(englishList)\n",
    "            nonStopWordsCt += Counter(nonStopWords)\n",
    "\n",
    "print(\"\\nMost Common Words in Titles\")\n",
    "for word, _ in c.most_common(10):\n",
    "    print(word, c[word])\n",
    "\n",
    "print(\"\\nNon Stop Words\")\n",
    "for word, _ in nonStopWordsCt.most_common(10):\n",
    "    print(word, nonStopWordsCt[word])"
   ]
  },
  {
   "cell_type": "code",
   "execution_count": 31,
   "metadata": {},
   "outputs": [
    {
     "name": "stdout",
     "output_type": "stream",
     "text": [
      "\n",
      " 30 Most Common Words in Titles\n",
      "the 17423\n",
      "and 14121\n",
      "to 13334\n",
      "a 9770\n",
      "of 7697\n",
      "for 6777\n",
      "in 6742\n",
      "you 6596\n",
      "your 4895\n",
      "on 4871\n",
      "\n",
      "Non Stop Words\n",
      "de 4494\n",
      "i 3179\n",
      "fitness 2230\n",
      "training 2153\n",
      "workout 2051\n",
      "video 1955\n",
      "the 1780\n",
      "get 1751\n",
      "en 1689\n",
      "la 1613\n"
     ]
    }
   ],
   "source": [
    "c = Counter()\n",
    "nonStopWordsCt = Counter()\n",
    "stopWords = set(stopwords.words('english'))\n",
    "\n",
    "for x in data.Description:\n",
    "            wordList = x.split()\n",
    "            englishList = []\n",
    "            nonStopWords = []\n",
    "            for word in wordList:\n",
    "                if word.isalpha():\n",
    "                    englishList.append(word.lower())\n",
    "                    if word not in stopWords:\n",
    "                        nonStopWords.append(word.lower())\n",
    "            c += Counter(englishList)\n",
    "            nonStopWordsCt += Counter(nonStopWords)\n",
    "\n",
    "print(\"\\n 30 Most Common Words in Titles\")\n",
    "for word, _ in c.most_common(10):\n",
    "    print(word, c[word])\n",
    "\n",
    "print(\"\\nNon Stop Words\")\n",
    "for word, _ in nonStopWordsCt.most_common(10):\n",
    "    print(word, nonStopWordsCt[word])"
   ]
  },
  {
   "cell_type": "code",
   "execution_count": null,
   "metadata": {
    "collapsed": true
   },
   "outputs": [],
   "source": []
  }
 ],
 "metadata": {
  "kernelspec": {
   "display_name": "Python 3",
   "language": "python",
   "name": "python3"
  },
  "language_info": {
   "codemirror_mode": {
    "name": "ipython",
    "version": 3
   },
   "file_extension": ".py",
   "mimetype": "text/x-python",
   "name": "python",
   "nbconvert_exporter": "python",
   "pygments_lexer": "ipython3",
   "version": "3.6.1"
  }
 },
 "nbformat": 4,
 "nbformat_minor": 2
}
