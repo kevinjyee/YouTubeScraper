{
 "cells": [
  {
   "cell_type": "code",
   "execution_count": 1,
   "metadata": {
    "collapsed": true
   },
   "outputs": [],
   "source": [
    "import pandas as pd\n",
    "import numpy as np\n",
    "import matplotlib.pyplot as plt\n",
    "import re\n",
    "%matplotlib inline"
   ]
  },
  {
   "cell_type": "code",
   "execution_count": 2,
   "metadata": {
    "collapsed": true
   },
   "outputs": [],
   "source": [
    "# Read in CSV \n",
    "data = pd.read_csv(\"videoStats.csv\", encoding = 'latin-1')"
   ]
  },
  {
   "cell_type": "code",
   "execution_count": 3,
   "metadata": {},
   "outputs": [
    {
     "name": "stdout",
     "output_type": "stream",
     "text": [
      "['Bodybuilding & Fitness Motivation - Aesthetic To The Max']\n"
     ]
    }
   ],
   "source": [
    "print(re.findall(r\"'(.*?)'\",data.Title[1],re.DOTALL))"
   ]
  },
  {
   "cell_type": "code",
   "execution_count": 29,
   "metadata": {},
   "outputs": [
    {
     "name": "stdout",
     "output_type": "stream",
     "text": [
      "\n",
      "Most Common Words in Titles\n",
      "the 877\n",
      "and 810\n",
      "to 786\n",
      "workout 624\n",
      "for 584\n",
      "with 553\n",
      "de 543\n",
      "gym 543\n",
      "training 540\n",
      "in 419\n",
      "\n",
      "Non Stop Words\n",
      "workout 624\n",
      "de 543\n",
      "gym 543\n",
      "training 540\n",
      "fitness 381\n",
      "the 355\n",
      "bodybuilding 282\n",
      "muscle 258\n",
      "body 250\n",
      "to 244\n"
     ]
    }
   ],
   "source": [
    "import os\n",
    "import nltk\n",
    "from collections import Counter\n",
    "from nltk.corpus import stopwords\n",
    "\n",
    "c = Counter()\n",
    "nonStopWordsCt = Counter()\n",
    "stopWords = set(stopwords.words('english'))\n",
    "\n",
    "for x in data.Title:\n",
    "            wordList = x.split()\n",
    "            englishList = []\n",
    "            nonStopWords = []\n",
    "            for word in wordList:\n",
    "                if word.isalpha():\n",
    "                    englishList.append(word.lower())\n",
    "                    if word not in stopWords:\n",
    "                        nonStopWords.append(word.lower())\n",
    "            c += Counter(englishList)\n",
    "            nonStopWordsCt += Counter(nonStopWords)\n",
    "\n",
    "print(\"\\nMost Common Words in Titles\")\n",
    "for word, _ in c.most_common(10):\n",
    "    print(word, c[word])\n",
    "\n",
    "print(\"\\nNon Stop Words\")\n",
    "for word, _ in nonStopWordsCt.most_common(10):\n",
    "    print(word, nonStopWordsCt[word])"
   ]
  },
  {
   "cell_type": "code",
   "execution_count": 31,
   "metadata": {},
   "outputs": [
    {
     "name": "stdout",
     "output_type": "stream",
     "text": [
      "\n",
      " 30 Most Common Words in Titles\n",
      "the 17423\n",
      "and 14121\n",
      "to 13334\n",
      "a 9770\n",
      "of 7697\n",
      "for 6777\n",
      "in 6742\n",
      "you 6596\n",
      "your 4895\n",
      "on 4871\n",
      "\n",
      "Non Stop Words\n",
      "de 4494\n",
      "i 3179\n",
      "fitness 2230\n",
      "training 2153\n",
      "workout 2051\n",
      "video 1955\n",
      "the 1780\n",
      "get 1751\n",
      "en 1689\n",
      "la 1613\n"
     ]
    }
   ],
   "source": [
    "c = Counter()\n",
    "nonStopWordsCt = Counter()\n",
    "stopWords = set(stopwords.words('english'))\n",
    "\n",
    "for x in data.Description:\n",
    "            wordList = x.split()\n",
    "            englishList = []\n",
    "            nonStopWords = []\n",
    "            for word in wordList:\n",
    "                if word.isalpha():\n",
    "                    englishList.append(word.lower())\n",
    "                    if word not in stopWords:\n",
    "                        nonStopWords.append(word.lower())\n",
    "            c += Counter(englishList)\n",
    "            nonStopWordsCt += Counter(nonStopWords)\n",
    "\n",
    "print(\"\\n 30 Most Common Words in Titles\")\n",
    "for word, _ in c.most_common(10):\n",
    "    print(word, c[word])\n",
    "\n",
    "print(\"\\nNon Stop Words\")\n",
    "for word, _ in nonStopWordsCt.most_common(10):\n",
    "    print(word, nonStopWordsCt[word])"
   ]
  },
  {
   "cell_type": "code",
   "execution_count": 10,
   "metadata": {},
   "outputs": [],
   "source": [
    "lcsdata = data.loc[(data['Description'].str.contains(\"subscribe\")) | \n",
    "                   (data['Description'].str.contains(\"like\")) | \n",
    "                   (data['Description'].str.contains(\"comment\")) ]"
   ]
  },
  {
   "cell_type": "code",
   "execution_count": 18,
   "metadata": {},
   "outputs": [
    {
     "data": {
      "text/plain": [
       "(array([  1.01700000e+03,   6.60000000e+01,   1.50000000e+01,\n",
       "          1.40000000e+01,   1.00000000e+01,   6.00000000e+00,\n",
       "          3.00000000e+00,   1.00000000e+00,   0.00000000e+00,\n",
       "          1.00000000e+00,   0.00000000e+00,   0.00000000e+00,\n",
       "          3.00000000e+00,   2.00000000e+00,   0.00000000e+00,\n",
       "          0.00000000e+00,   2.00000000e+00,   0.00000000e+00,\n",
       "          0.00000000e+00,   0.00000000e+00,   0.00000000e+00,\n",
       "          0.00000000e+00,   1.00000000e+00,   1.00000000e+00,\n",
       "          0.00000000e+00,   0.00000000e+00,   1.00000000e+00,\n",
       "          0.00000000e+00,   1.00000000e+00,   0.00000000e+00,\n",
       "          0.00000000e+00,   1.00000000e+00,   0.00000000e+00,\n",
       "          0.00000000e+00,   0.00000000e+00,   0.00000000e+00,\n",
       "          0.00000000e+00,   0.00000000e+00,   0.00000000e+00,\n",
       "          0.00000000e+00,   0.00000000e+00,   0.00000000e+00,\n",
       "          0.00000000e+00,   0.00000000e+00,   0.00000000e+00,\n",
       "          0.00000000e+00,   0.00000000e+00,   0.00000000e+00,\n",
       "          0.00000000e+00,   2.00000000e+00]),\n",
       " array([  1.01300000e+03,   1.23543380e+05,   2.46073760e+05,\n",
       "          3.68604140e+05,   4.91134520e+05,   6.13664900e+05,\n",
       "          7.36195280e+05,   8.58725660e+05,   9.81256040e+05,\n",
       "          1.10378642e+06,   1.22631680e+06,   1.34884718e+06,\n",
       "          1.47137756e+06,   1.59390794e+06,   1.71643832e+06,\n",
       "          1.83896870e+06,   1.96149908e+06,   2.08402946e+06,\n",
       "          2.20655984e+06,   2.32909022e+06,   2.45162060e+06,\n",
       "          2.57415098e+06,   2.69668136e+06,   2.81921174e+06,\n",
       "          2.94174212e+06,   3.06427250e+06,   3.18680288e+06,\n",
       "          3.30933326e+06,   3.43186364e+06,   3.55439402e+06,\n",
       "          3.67692440e+06,   3.79945478e+06,   3.92198516e+06,\n",
       "          4.04451554e+06,   4.16704592e+06,   4.28957630e+06,\n",
       "          4.41210668e+06,   4.53463706e+06,   4.65716744e+06,\n",
       "          4.77969782e+06,   4.90222820e+06,   5.02475858e+06,\n",
       "          5.14728896e+06,   5.26981934e+06,   5.39234972e+06,\n",
       "          5.51488010e+06,   5.63741048e+06,   5.75994086e+06,\n",
       "          5.88247124e+06,   6.00500162e+06,   6.12753200e+06]),\n",
       " <a list of 50 Patch objects>)"
      ]
     },
     "execution_count": 18,
     "metadata": {},
     "output_type": "execute_result"
    },
    {
     "data": {
      "image/png": "[encoded data removed]",
      "text/plain": [
       "<matplotlib.figure.Figure at 0x25878e5b2b0>"
      ]
     },
     "metadata": {},
     "output_type": "display_data"
    }
   ],
   "source": [
    "plt.hist(lcsdata['ViewCount'], bins = 50)"
   ]
  },
  {
   "cell_type": "code",
   "execution_count": 13,
   "metadata": {},
   "outputs": [
    {
     "data": {
      "text/html": [
       "<div>\n",
       "<style>\n",
       "    .dataframe thead tr:only-child th {\n",
       "        text-align: right;\n",
       "    }\n",
       "\n",
       "    .dataframe thead th {\n",
       "        text-align: left;\n",
       "    }\n",
       "\n",
       "    .dataframe tbody tr th {\n",
       "        vertical-align: top;\n",
       "    }\n",
       "</style>\n",
       "<table border=\"1\" class=\"dataframe\">\n",
       "  <thead>\n",
       "    <tr style=\"text-align: right;\">\n",
       "      <th></th>\n",
       "      <th>Id</th>\n",
       "      <th>Title</th>\n",
       "      <th>Description</th>\n",
       "      <th>LikeCount</th>\n",
       "      <th>DislikeCount</th>\n",
       "      <th>ViewCount</th>\n",
       "      <th>FavoriteCount</th>\n",
       "      <th>CommentCount</th>\n",
       "      <th>PublishedAt</th>\n",
       "      <th>Channel Id</th>\n",
       "      <th>Channel Title</th>\n",
       "      <th>Tags</th>\n",
       "      <th>Thumbnail Default</th>\n",
       "    </tr>\n",
       "  </thead>\n",
       "  <tbody>\n",
       "    <tr>\n",
       "      <th>0</th>\n",
       "      <td>QyKYEKrYraI</td>\n",
       "      <td>b'Extreme SIX-PACK ABS Workout w/ Kali Muscle'</td>\n",
       "      <td>b'Kali Muscle shows you guys how to get shredd...</td>\n",
       "      <td>25866</td>\n",
       "      <td>1351</td>\n",
       "      <td>3793297</td>\n",
       "      <td>0</td>\n",
       "      <td>2400</td>\n",
       "      <td>2014-06-29T21:32:50.000Z</td>\n",
       "      <td>UCg_tz2iw7_-gf2xIL-DdM2g</td>\n",
       "      <td>Kali Muscle</td>\n",
       "      <td>['kali muscle', 'hyphy mud', 'muscle up', 'you...</td>\n",
       "      <td>b'https://i.ytimg.com/vi/QyKYEKrYraI/default.jpg'</td>\n",
       "    </tr>\n",
       "    <tr>\n",
       "      <th>1</th>\n",
       "      <td>UYJMinNrB7E</td>\n",
       "      <td>b'Bodybuilding &amp; Fitness Motivation - Aestheti...</td>\n",
       "      <td>b'Follow me:\\nhttp://instagram.com/shaqx.bb\\nh...</td>\n",
       "      <td>8493</td>\n",
       "      <td>335</td>\n",
       "      <td>1666110</td>\n",
       "      <td>0</td>\n",
       "      <td>499</td>\n",
       "      <td>2014-05-12T15:03:07.000Z</td>\n",
       "      <td>UC3uDucFPe-E0I6CfxtHWZ6w</td>\n",
       "      <td>ShaQxTV</td>\n",
       "      <td>['ShaQx', 'Bodybuilding', 'Motivation', 'Bodyb...</td>\n",
       "      <td>b'https://i.ytimg.com/vi/UYJMinNrB7E/default.jpg'</td>\n",
       "    </tr>\n",
       "    <tr>\n",
       "      <th>2</th>\n",
       "      <td>AIZDTGqBa-0</td>\n",
       "      <td>b'How to lose weight and build muscle fast'</td>\n",
       "      <td>b'Full 8-12 Week Diet &amp; Training Programs Avai...</td>\n",
       "      <td>6197</td>\n",
       "      <td>399</td>\n",
       "      <td>1292642</td>\n",
       "      <td>0</td>\n",
       "      <td>709</td>\n",
       "      <td>2013-02-01T16:42:09.000Z</td>\n",
       "      <td>UCzPpSrjtR0ByfF9uq2ZTOlw</td>\n",
       "      <td>Alex Los Angeles</td>\n",
       "      <td>['how to', 'lose weight', 'burn fat', 'belly',...</td>\n",
       "      <td>b'https://i.ytimg.com/vi/AIZDTGqBa-0/default.jpg'</td>\n",
       "    </tr>\n",
       "    <tr>\n",
       "      <th>3</th>\n",
       "      <td>VKDTB1F-jRw</td>\n",
       "      <td>b\"Bodybuilding Motivation - Don't Run Away Fro...</td>\n",
       "      <td>b'Subscribe and Stay Tuned for more videos!\\n\\...</td>\n",
       "      <td>3684</td>\n",
       "      <td>144</td>\n",
       "      <td>1140818</td>\n",
       "      <td>0</td>\n",
       "      <td>209</td>\n",
       "      <td>2011-01-22T10:42:34.000Z</td>\n",
       "      <td>UCiWEGEhbwxz9cb0uTbnUepw</td>\n",
       "      <td>WallEast</td>\n",
       "      <td>['WallEast', 'Motivation', '2011', 'Tomandandy...</td>\n",
       "      <td>b'https://i.ytimg.com/vi/VKDTB1F-jRw/default.jpg'</td>\n",
       "    </tr>\n",
       "    <tr>\n",
       "      <th>4</th>\n",
       "      <td>8Dz39zCtMDs</td>\n",
       "      <td>b'BEST BODIES AT BODYPOWER 2015 (HD)'</td>\n",
       "      <td>b\"Aesthetics rule at the Bodypower Expo 2015, ...</td>\n",
       "      <td>3650</td>\n",
       "      <td>126</td>\n",
       "      <td>765380</td>\n",
       "      <td>0</td>\n",
       "      <td>284</td>\n",
       "      <td>2015-05-23T17:00:00.000Z</td>\n",
       "      <td>UCoguzybAI8Fgdj4Aze5tE8w</td>\n",
       "      <td>Fit Media Channel</td>\n",
       "      <td>['colin wayne', 'steve cook', 'best bodies', '...</td>\n",
       "      <td>b'https://i.ytimg.com/vi/8Dz39zCtMDs/default.jpg'</td>\n",
       "    </tr>\n",
       "  </tbody>\n",
       "</table>\n",
       "</div>"
      ],
      "text/plain": [
       "            Id                                              Title  \\\n",
       "0  QyKYEKrYraI     b'Extreme SIX-PACK ABS Workout w/ Kali Muscle'   \n",
       "1  UYJMinNrB7E  b'Bodybuilding & Fitness Motivation - Aestheti...   \n",
       "2  AIZDTGqBa-0        b'How to lose weight and build muscle fast'   \n",
       "3  VKDTB1F-jRw  b\"Bodybuilding Motivation - Don't Run Away Fro...   \n",
       "4  8Dz39zCtMDs              b'BEST BODIES AT BODYPOWER 2015 (HD)'   \n",
       "\n",
       "                                         Description  LikeCount  DislikeCount  \\\n",
       "0  b'Kali Muscle shows you guys how to get shredd...      25866          1351   \n",
       "1  b'Follow me:\\nhttp://instagram.com/shaqx.bb\\nh...       8493           335   \n",
       "2  b'Full 8-12 Week Diet & Training Programs Avai...       6197           399   \n",
       "3  b'Subscribe and Stay Tuned for more videos!\\n\\...       3684           144   \n",
       "4  b\"Aesthetics rule at the Bodypower Expo 2015, ...       3650           126   \n",
       "\n",
       "   ViewCount  FavoriteCount  CommentCount               PublishedAt  \\\n",
       "0    3793297              0          2400  2014-06-29T21:32:50.000Z   \n",
       "1    1666110              0           499  2014-05-12T15:03:07.000Z   \n",
       "2    1292642              0           709  2013-02-01T16:42:09.000Z   \n",
       "3    1140818              0           209  2011-01-22T10:42:34.000Z   \n",
       "4     765380              0           284  2015-05-23T17:00:00.000Z   \n",
       "\n",
       "                 Channel Id      Channel Title  \\\n",
       "0  UCg_tz2iw7_-gf2xIL-DdM2g        Kali Muscle   \n",
       "1  UC3uDucFPe-E0I6CfxtHWZ6w            ShaQxTV   \n",
       "2  UCzPpSrjtR0ByfF9uq2ZTOlw   Alex Los Angeles   \n",
       "3  UCiWEGEhbwxz9cb0uTbnUepw           WallEast   \n",
       "4  UCoguzybAI8Fgdj4Aze5tE8w  Fit Media Channel   \n",
       "\n",
       "                                                Tags  \\\n",
       "0  ['kali muscle', 'hyphy mud', 'muscle up', 'you...   \n",
       "1  ['ShaQx', 'Bodybuilding', 'Motivation', 'Bodyb...   \n",
       "2  ['how to', 'lose weight', 'burn fat', 'belly',...   \n",
       "3  ['WallEast', 'Motivation', '2011', 'Tomandandy...   \n",
       "4  ['colin wayne', 'steve cook', 'best bodies', '...   \n",
       "\n",
       "                                   Thumbnail Default  \n",
       "0  b'https://i.ytimg.com/vi/QyKYEKrYraI/default.jpg'  \n",
       "1  b'https://i.ytimg.com/vi/UYJMinNrB7E/default.jpg'  \n",
       "2  b'https://i.ytimg.com/vi/AIZDTGqBa-0/default.jpg'  \n",
       "3  b'https://i.ytimg.com/vi/VKDTB1F-jRw/default.jpg'  \n",
       "4  b'https://i.ytimg.com/vi/8Dz39zCtMDs/default.jpg'  "
      ]
     },
     "execution_count": 13,
     "metadata": {},
     "output_type": "execute_result"
    }
   ],
   "source": [
    "data.head()"
   ]
  },
  {
   "cell_type": "code",
   "execution_count": 20,
   "metadata": {},
   "outputs": [
    {
     "data": {
      "text/plain": [
       "(array([  1.08700000e+04,   1.93000000e+02,   7.40000000e+01,\n",
       "          2.10000000e+01,   2.30000000e+01,   1.80000000e+01,\n",
       "          6.00000000e+00,   8.00000000e+00,   4.00000000e+00,\n",
       "          2.00000000e+00,   3.00000000e+00,   4.00000000e+00,\n",
       "          2.00000000e+00,   2.00000000e+00,   2.00000000e+00,\n",
       "          1.00000000e+00,   0.00000000e+00,   0.00000000e+00,\n",
       "          0.00000000e+00,   0.00000000e+00,   0.00000000e+00,\n",
       "          2.00000000e+00,   2.00000000e+00,   0.00000000e+00,\n",
       "          0.00000000e+00,   1.00000000e+00,   1.00000000e+00,\n",
       "          0.00000000e+00,   0.00000000e+00,   0.00000000e+00,\n",
       "          1.00000000e+00,   1.00000000e+00,   0.00000000e+00,\n",
       "          0.00000000e+00,   0.00000000e+00,   0.00000000e+00,\n",
       "          1.00000000e+00,   0.00000000e+00,   0.00000000e+00,\n",
       "          0.00000000e+00,   0.00000000e+00,   0.00000000e+00,\n",
       "          0.00000000e+00,   0.00000000e+00,   0.00000000e+00,\n",
       "          0.00000000e+00,   0.00000000e+00,   0.00000000e+00,\n",
       "          0.00000000e+00,   1.00000000e+00]),\n",
       " array([  1.01000000e+03,   2.72543460e+05,   5.44076920e+05,\n",
       "          8.15610380e+05,   1.08714384e+06,   1.35867730e+06,\n",
       "          1.63021076e+06,   1.90174422e+06,   2.17327768e+06,\n",
       "          2.44481114e+06,   2.71634460e+06,   2.98787806e+06,\n",
       "          3.25941152e+06,   3.53094498e+06,   3.80247844e+06,\n",
       "          4.07401190e+06,   4.34554536e+06,   4.61707882e+06,\n",
       "          4.88861228e+06,   5.16014574e+06,   5.43167920e+06,\n",
       "          5.70321266e+06,   5.97474612e+06,   6.24627958e+06,\n",
       "          6.51781304e+06,   6.78934650e+06,   7.06087996e+06,\n",
       "          7.33241342e+06,   7.60394688e+06,   7.87548034e+06,\n",
       "          8.14701380e+06,   8.41854726e+06,   8.69008072e+06,\n",
       "          8.96161418e+06,   9.23314764e+06,   9.50468110e+06,\n",
       "          9.77621456e+06,   1.00477480e+07,   1.03192815e+07,\n",
       "          1.05908149e+07,   1.08623484e+07,   1.11338819e+07,\n",
       "          1.14054153e+07,   1.16769488e+07,   1.19484822e+07,\n",
       "          1.22200157e+07,   1.24915492e+07,   1.27630826e+07,\n",
       "          1.30346161e+07,   1.33061495e+07,   1.35776830e+07]),\n",
       " <a list of 50 Patch objects>)"
      ]
     },
     "execution_count": 20,
     "metadata": {},
     "output_type": "execute_result"
    },
    {
     "data": {
      "image/png": "[encoded data removed]",
      "text/plain": [
       "<matplotlib.figure.Figure at 0x258790a97b8>"
      ]
     },
     "metadata": {},
     "output_type": "display_data"
    }
   ],
   "source": [
    "plt.hist(data['ViewCount'],bins = 50)"
   ]
  },
  {
   "cell_type": "code",
   "execution_count": null,
   "metadata": {
    "collapsed": true
   },
   "outputs": [],
   "source": []
  }
 ],
 "metadata": {
  "kernelspec": {
   "display_name": "Python 3",
   "language": "python",
   "name": "python3"
  },
  "language_info": {
   "codemirror_mode": {
    "name": "ipython",
    "version": 3
   },
   "file_extension": ".py",
   "mimetype": "text/x-python",
   "name": "python",
   "nbconvert_exporter": "python",
   "pygments_lexer": "ipython3",
   "version": "3.6.1"
  }
 },
 "nbformat": 4,
 "nbformat_minor": 2
}
